{
 "cells": [
  {
   "cell_type": "markdown",
   "id": "c04176be",
   "metadata": {},
   "source": [
    "## No 1"
   ]
  },
  {
   "cell_type": "code",
   "execution_count": 6,
   "id": "f7ff7cf0",
   "metadata": {},
   "outputs": [
    {
     "name": "stdout",
     "output_type": "stream",
     "text": [
      "3 8 9 16 15 24 21 32 27 44 "
     ]
    }
   ],
   "source": [
    "listOne = [3, 6, 9, 12, 15, 18, 21, 24, 27, 33]\n",
    "listTwo = [4, 8, 12, 16, 20, 24, 28, 32, 36, 44]\n",
    "listThree = []\n",
    "i = 0\n",
    "j = 1\n",
    "\n",
    "while i < len(listOne) or j < len(listTwo):\n",
    "    listThree.append(listOne[i])\n",
    "    listThree.append(listTwo[j])\n",
    "    i += 2\n",
    "    j += 2\n",
    "\n",
    "for i in range (len(listThree)):\n",
    "    print (listThree[i], end = ' ')"
   ]
  },
  {
   "cell_type": "markdown",
   "id": "27bb08ba",
   "metadata": {},
   "source": [
    "## No 2"
   ]
  },
  {
   "cell_type": "code",
   "execution_count": 7,
   "id": "36f4ec6d",
   "metadata": {},
   "outputs": [
    {
     "name": "stdout",
     "output_type": "stream",
     "text": [
      "{11: 2, 45: 3, 8: 1, 101: 2, 23: 2, 89: 1}\n"
     ]
    }
   ],
   "source": [
    "listA = [11, 45, 8, 11, 101, 23, 45, 23, 45, 89, 101]\n",
    "list = {}\n",
    "\n",
    "for i in range (len(listA)):\n",
    "    counter = 0\n",
    "    for j in range (len(listA)):\n",
    "        if (listA[j]==listA[i]):\n",
    "            counter += 1\n",
    "    list[listA[i]] = counter\n",
    "print(list)"
   ]
  },
  {
   "cell_type": "markdown",
   "id": "3ad198fe",
   "metadata": {},
   "source": [
    "## No 3"
   ]
  },
  {
   "cell_type": "code",
   "execution_count": 8,
   "id": "cd0031cf",
   "metadata": {},
   "outputs": [
    {
     "name": "stdout",
     "output_type": "stream",
     "text": [
      "[15, 50, 55, 75, 90, 95, 100, 150, 180]\n"
     ]
    }
   ],
   "source": [
    "listB = [12, 15, 18, 32, 42, 47, 50, 55, 75, 90, 95, 100, 122, 132, 150, 180, 200]\n",
    "i = 0\n",
    "list = []\n",
    "\n",
    "while listB[i] <= 180:\n",
    "    if (listB[i]%5 == 0):\n",
    "        list.append(listB[i])\n",
    "    i+=1\n",
    "        \n",
    "print (list)"
   ]
  },
  {
   "cell_type": "markdown",
   "id": "9768b84d",
   "metadata": {},
   "source": [
    "## No 4"
   ]
  },
  {
   "cell_type": "code",
   "execution_count": 11,
   "id": "f989a58f",
   "metadata": {},
   "outputs": [
    {
     "name": "stdout",
     "output_type": "stream",
     "text": [
      "Angka:10\n",
      "10\n",
      "5\n",
      "2\n",
      "1\n"
     ]
    }
   ],
   "source": [
    "var = int(input(\"Angka:\"))\n",
    "\n",
    "while var >=0:\n",
    "    print (var)\n",
    "    var = int(var/2)\n",
    "    if (var == 0):\n",
    "        break"
   ]
  },
  {
   "cell_type": "code",
   "execution_count": null,
   "id": "08b568dd",
   "metadata": {},
   "outputs": [],
   "source": []
  }
 ],
 "metadata": {
  "kernelspec": {
   "display_name": "Python 3 (ipykernel)",
   "language": "python",
   "name": "python3"
  },
  "language_info": {
   "codemirror_mode": {
    "name": "ipython",
    "version": 3
   },
   "file_extension": ".py",
   "mimetype": "text/x-python",
   "name": "python",
   "nbconvert_exporter": "python",
   "pygments_lexer": "ipython3",
   "version": "3.9.7"
  }
 },
 "nbformat": 4,
 "nbformat_minor": 5
}
